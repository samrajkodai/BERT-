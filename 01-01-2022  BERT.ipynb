{
 "cells": [
  {
   "cell_type": "code",
   "execution_count": 1,
   "id": "11162255",
   "metadata": {},
   "outputs": [],
   "source": [
    "import tensorflow_hub as hub\n",
    "import tensorflow_text as text"
   ]
  },
  {
   "cell_type": "code",
   "execution_count": 2,
   "id": "a7ad0cd1",
   "metadata": {},
   "outputs": [],
   "source": [
    "preprocess_url = \"https://tfhub.dev/tensorflow/bert_en_uncased_preprocess/3\"\n",
    "encoder_url = \"https://tfhub.dev/tensorflow/bert_en_uncased_L-12_H-768_A-12/4\""
   ]
  },
  {
   "cell_type": "code",
   "execution_count": 3,
   "id": "a0c2aafe",
   "metadata": {},
   "outputs": [],
   "source": [
    "bert_preprocess_model = hub.KerasLayer(preprocess_url)"
   ]
  },
  {
   "cell_type": "code",
   "execution_count": 4,
   "id": "0182c337",
   "metadata": {},
   "outputs": [],
   "source": [
    "text_test=[\"i am samraj\",\"i love india\"]\n",
    "text_preocessed=bert_preprocess_model(text_test)"
   ]
  },
  {
   "cell_type": "code",
   "execution_count": 5,
   "id": "0668172c",
   "metadata": {},
   "outputs": [
    {
     "data": {
      "text/plain": [
       "dict_keys(['input_mask', 'input_word_ids', 'input_type_ids'])"
      ]
     },
     "execution_count": 5,
     "metadata": {},
     "output_type": "execute_result"
    }
   ],
   "source": [
    "text_preocessed.keys()"
   ]
  },
  {
   "cell_type": "code",
   "execution_count": 6,
   "id": "1c284f6e",
   "metadata": {},
   "outputs": [
    {
     "data": {
      "text/plain": [
       "<tf.Tensor: shape=(2, 128), dtype=int32, numpy=\n",
       "array([[1, 1, 1, 1, 1, 1, 0, 0, 0, 0, 0, 0, 0, 0, 0, 0, 0, 0, 0, 0, 0, 0,\n",
       "        0, 0, 0, 0, 0, 0, 0, 0, 0, 0, 0, 0, 0, 0, 0, 0, 0, 0, 0, 0, 0, 0,\n",
       "        0, 0, 0, 0, 0, 0, 0, 0, 0, 0, 0, 0, 0, 0, 0, 0, 0, 0, 0, 0, 0, 0,\n",
       "        0, 0, 0, 0, 0, 0, 0, 0, 0, 0, 0, 0, 0, 0, 0, 0, 0, 0, 0, 0, 0, 0,\n",
       "        0, 0, 0, 0, 0, 0, 0, 0, 0, 0, 0, 0, 0, 0, 0, 0, 0, 0, 0, 0, 0, 0,\n",
       "        0, 0, 0, 0, 0, 0, 0, 0, 0, 0, 0, 0, 0, 0, 0, 0, 0, 0],\n",
       "       [1, 1, 1, 1, 1, 0, 0, 0, 0, 0, 0, 0, 0, 0, 0, 0, 0, 0, 0, 0, 0, 0,\n",
       "        0, 0, 0, 0, 0, 0, 0, 0, 0, 0, 0, 0, 0, 0, 0, 0, 0, 0, 0, 0, 0, 0,\n",
       "        0, 0, 0, 0, 0, 0, 0, 0, 0, 0, 0, 0, 0, 0, 0, 0, 0, 0, 0, 0, 0, 0,\n",
       "        0, 0, 0, 0, 0, 0, 0, 0, 0, 0, 0, 0, 0, 0, 0, 0, 0, 0, 0, 0, 0, 0,\n",
       "        0, 0, 0, 0, 0, 0, 0, 0, 0, 0, 0, 0, 0, 0, 0, 0, 0, 0, 0, 0, 0, 0,\n",
       "        0, 0, 0, 0, 0, 0, 0, 0, 0, 0, 0, 0, 0, 0, 0, 0, 0, 0]])>"
      ]
     },
     "execution_count": 6,
     "metadata": {},
     "output_type": "execute_result"
    }
   ],
   "source": [
    "text_preocessed['input_mask']"
   ]
  },
  {
   "cell_type": "code",
   "execution_count": 7,
   "id": "7bb0a2ea",
   "metadata": {},
   "outputs": [],
   "source": [
    "bert_encoder_model = hub.KerasLayer(encoder_url)\n"
   ]
  },
  {
   "cell_type": "code",
   "execution_count": 10,
   "id": "c5fe2a1e",
   "metadata": {},
   "outputs": [],
   "source": [
    "text_result=bert_encoder_model(text_preocessed)\n"
   ]
  },
  {
   "cell_type": "code",
   "execution_count": 15,
   "id": "0f44450b",
   "metadata": {},
   "outputs": [
    {
     "data": {
      "text/plain": [
       "dict_keys(['pooled_output', 'sequence_output', 'encoder_outputs', 'default'])"
      ]
     },
     "execution_count": 15,
     "metadata": {},
     "output_type": "execute_result"
    }
   ],
   "source": [
    "text_result.keys()"
   ]
  },
  {
   "cell_type": "code",
   "execution_count": 16,
   "id": "65873d52",
   "metadata": {},
   "outputs": [
    {
     "data": {
      "text/plain": [
       "<tf.Tensor: shape=(2, 768), dtype=float32, numpy=\n",
       "array([[-0.90905267, -0.43768942, -0.46207058, ..., -0.48330122,\n",
       "        -0.72118896,  0.92192274],\n",
       "       [-0.9305879 , -0.39886287, -0.54726136, ..., -0.24072902,\n",
       "        -0.6662712 ,  0.9040463 ]], dtype=float32)>"
      ]
     },
     "execution_count": 16,
     "metadata": {},
     "output_type": "execute_result"
    }
   ],
   "source": [
    "text_result['pooled_output']"
   ]
  },
  {
   "cell_type": "code",
   "execution_count": 17,
   "id": "9a88997f",
   "metadata": {},
   "outputs": [
    {
     "data": {
      "text/plain": [
       "<tf.Tensor: shape=(2, 128, 768), dtype=float32, numpy=\n",
       "array([[[-1.1866006e-01,  5.8246922e-01, -9.7258583e-02, ...,\n",
       "         -3.3045553e-02,  3.1129837e-01,  4.9712422e-01],\n",
       "        [ 1.5277361e-02,  9.9350261e-03, -5.4490346e-01, ...,\n",
       "          2.0262718e-02,  5.5941916e-01,  1.8848534e-01],\n",
       "        [-4.1367409e-01,  5.2561767e-02,  1.1610420e-01, ...,\n",
       "          2.6552647e-01,  5.7873428e-01,  3.1152323e-01],\n",
       "        ...,\n",
       "        [-1.1303812e-01, -2.9335300e-02,  5.5865031e-01, ...,\n",
       "          3.2751432e-01,  3.7004463e-02, -6.6901008e-03],\n",
       "        [-2.1482959e-01,  1.3828947e-01,  6.0950857e-01, ...,\n",
       "          2.5584438e-01, -1.2393908e-01, -2.4831194e-01],\n",
       "        [-4.6177900e-01, -1.9169638e-01,  4.3148968e-01, ...,\n",
       "          3.4059501e-01, -1.9272812e-01, -3.2415652e-01]],\n",
       "\n",
       "       [[-7.3014468e-02,  2.9683924e-01, -5.4883502e-02, ...,\n",
       "         -5.7500046e-01,  2.6775628e-01,  2.6741537e-01],\n",
       "        [ 3.5924789e-01,  9.2717087e-01, -2.7763340e-01, ...,\n",
       "         -4.5328957e-01,  6.1215729e-01, -2.6991615e-01],\n",
       "        [ 1.0340199e+00,  1.1130979e+00,  4.4680822e-01, ...,\n",
       "         -7.0923668e-01,  6.2684953e-01, -1.9533496e-01],\n",
       "        ...,\n",
       "        [-1.3761161e-01,  9.2921242e-02,  4.0373439e-01, ...,\n",
       "          3.0326203e-02, -2.2454560e-04,  2.2394513e-01],\n",
       "        [-1.3372688e-01,  2.1831445e-01,  2.9569951e-01, ...,\n",
       "         -1.8345585e-01, -6.8414204e-02,  2.6992184e-01],\n",
       "        [-4.0883034e-01, -1.5501414e-01,  3.2563218e-01, ...,\n",
       "          1.4875633e-01,  2.3542829e-03,  1.2963736e-01]]], dtype=float32)>"
      ]
     },
     "execution_count": 17,
     "metadata": {},
     "output_type": "execute_result"
    }
   ],
   "source": [
    "text_result['sequence_output']"
   ]
  },
  {
   "cell_type": "code",
   "execution_count": 19,
   "id": "0955fd8c",
   "metadata": {},
   "outputs": [
    {
     "data": {
      "text/plain": [
       "<tf.Tensor: shape=(2, 128, 768), dtype=float32, numpy=\n",
       "array([[[ 0.18417045,  0.04666947, -0.11979195, ..., -0.03734184,\n",
       "          0.14215276,  0.02411334],\n",
       "        [ 0.77238137,  0.8891811 , -0.5108384 , ...,  0.5149803 ,\n",
       "          0.86166555, -0.06011426],\n",
       "        [-0.07264605,  0.12031516,  0.4447937 , ...,  0.16154078,\n",
       "          1.56906   , -0.70398825],\n",
       "        ...,\n",
       "        [-0.01122512, -0.21315962,  0.61906064, ...,  0.4631499 ,\n",
       "         -0.12799111,  0.01281444],\n",
       "        [-0.09545104, -0.23591812,  0.4948591 , ...,  0.48006165,\n",
       "         -0.02251821, -0.09355441],\n",
       "        [ 0.05027047, -0.15729749,  0.52189595, ...,  0.83061534,\n",
       "         -0.3318614 , -0.1968798 ]],\n",
       "\n",
       "       [[ 0.15133615,  0.08122401, -0.09441697, ..., -0.00495034,\n",
       "          0.15823336,  0.08329478],\n",
       "        [ 0.64257145,  0.91123366, -0.20715523, ...,  0.40772444,\n",
       "          0.7814262 ,  0.07786281],\n",
       "        [ 1.5023903 ,  0.7790859 ,  0.22701085, ...,  0.57203805,\n",
       "          0.85518026, -0.08478036],\n",
       "        ...,\n",
       "        [ 0.03249671, -0.25530165,  0.7560432 , ...,  0.3181473 ,\n",
       "         -0.04061657,  0.2078126 ],\n",
       "        [-0.04669267, -0.289042  ,  0.60993963, ...,  0.3735203 ,\n",
       "          0.02924243,  0.06099931],\n",
       "        [ 0.13487636, -0.18425882,  0.62430793, ...,  0.71088   ,\n",
       "         -0.3205471 , -0.02325352]]], dtype=float32)>"
      ]
     },
     "execution_count": 19,
     "metadata": {},
     "output_type": "execute_result"
    }
   ],
   "source": [
    "text_result['encoder_outputs'][0]"
   ]
  },
  {
   "cell_type": "code",
   "execution_count": 20,
   "id": "0e137703",
   "metadata": {},
   "outputs": [
    {
     "data": {
      "text/plain": [
       "<tf.Tensor: shape=(2, 128, 768), dtype=float32, numpy=\n",
       "array([[[-1.1866006e-01,  5.8246922e-01, -9.7258583e-02, ...,\n",
       "         -3.3045553e-02,  3.1129837e-01,  4.9712422e-01],\n",
       "        [ 1.5277361e-02,  9.9350261e-03, -5.4490346e-01, ...,\n",
       "          2.0262718e-02,  5.5941916e-01,  1.8848534e-01],\n",
       "        [-4.1367409e-01,  5.2561767e-02,  1.1610420e-01, ...,\n",
       "          2.6552647e-01,  5.7873428e-01,  3.1152323e-01],\n",
       "        ...,\n",
       "        [-1.1303812e-01, -2.9335300e-02,  5.5865031e-01, ...,\n",
       "          3.2751432e-01,  3.7004463e-02, -6.6901008e-03],\n",
       "        [-2.1482959e-01,  1.3828947e-01,  6.0950857e-01, ...,\n",
       "          2.5584438e-01, -1.2393908e-01, -2.4831194e-01],\n",
       "        [-4.6177900e-01, -1.9169638e-01,  4.3148968e-01, ...,\n",
       "          3.4059501e-01, -1.9272812e-01, -3.2415652e-01]],\n",
       "\n",
       "       [[-7.3014468e-02,  2.9683924e-01, -5.4883502e-02, ...,\n",
       "         -5.7500046e-01,  2.6775628e-01,  2.6741537e-01],\n",
       "        [ 3.5924789e-01,  9.2717087e-01, -2.7763340e-01, ...,\n",
       "         -4.5328957e-01,  6.1215729e-01, -2.6991615e-01],\n",
       "        [ 1.0340199e+00,  1.1130979e+00,  4.4680822e-01, ...,\n",
       "         -7.0923668e-01,  6.2684953e-01, -1.9533496e-01],\n",
       "        ...,\n",
       "        [-1.3761161e-01,  9.2921242e-02,  4.0373439e-01, ...,\n",
       "          3.0326203e-02, -2.2454560e-04,  2.2394513e-01],\n",
       "        [-1.3372688e-01,  2.1831445e-01,  2.9569951e-01, ...,\n",
       "         -1.8345585e-01, -6.8414204e-02,  2.6992184e-01],\n",
       "        [-4.0883034e-01, -1.5501414e-01,  3.2563218e-01, ...,\n",
       "          1.4875633e-01,  2.3542829e-03,  1.2963736e-01]]], dtype=float32)>"
      ]
     },
     "execution_count": 20,
     "metadata": {},
     "output_type": "execute_result"
    }
   ],
   "source": [
    "text_result['encoder_outputs'][-1]"
   ]
  },
  {
   "cell_type": "code",
   "execution_count": null,
   "id": "fb5961a3",
   "metadata": {},
   "outputs": [],
   "source": []
  }
 ],
 "metadata": {
  "kernelspec": {
   "display_name": "Python 3 (ipykernel)",
   "language": "python",
   "name": "python3"
  },
  "language_info": {
   "codemirror_mode": {
    "name": "ipython",
    "version": 3
   },
   "file_extension": ".py",
   "mimetype": "text/x-python",
   "name": "python",
   "nbconvert_exporter": "python",
   "pygments_lexer": "ipython3",
   "version": "3.9.7"
  }
 },
 "nbformat": 4,
 "nbformat_minor": 5
}
